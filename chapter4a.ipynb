{
 "cells": [
  {
   "cell_type": "code",
   "execution_count": 3,
   "metadata": {},
   "outputs": [],
   "source": [
    "\"\"\"Analyzing Neural Time Series Data\n",
    "% Python code for Chapter 4 script A -- converted from original Matlab by Andrew Rose (and ChatGPT)\n",
    "% Original Matlab code by Mike X Cohen\n",
    "% \n",
    "% This code accompanies the book, titled \"Analyzing Neural Time Series Data\" \n",
    "% (MIT Press). Using the code without following the book may lead to confusion, \n",
    "% incorrect data analyses, and misinterpretations of results. \n",
    "% Mike X Cohen and Andrew Rose assume no responsibility for inappropriate or incorrect use of this code. \n",
    "\"\"\"\n",
    "import numpy as np\n"
   ]
  },
  {
   "cell_type": "code",
   "execution_count": 4,
   "metadata": {},
   "outputs": [
    {
     "name": "stdout",
     "output_type": "stream",
     "text": [
      "30\n",
      "-3.0\n",
      "<class 'str'>\n",
      "4\n",
      "10\n"
     ]
    }
   ],
   "source": [
    "\n",
    "# --- Variables, Part I ---\n",
    "\n",
    "# Assigning basic values to variables\n",
    "mike = 10\n",
    "bob = 20\n",
    "\n",
    "# Mathematical operations with variables\n",
    "print(mike + bob)\n",
    "print((mike + bob) / (mike - bob))\n",
    "\n",
    "# Strings and concatenation\n",
    "mike = \"mike\"\n",
    "mikes_full_name = mike + \" cohen\"\n",
    "mikes_two_fav_numbers = [7, 23]\n",
    "\n",
    "# Checking variable types and sizes\n",
    "print(type(mike))\n",
    "print(len(mike))\n",
    "print(len(mikes_full_name))\n"
   ]
  },
  {
   "cell_type": "code",
   "execution_count": 5,
   "metadata": {},
   "outputs": [
    {
     "name": "stdout",
     "output_type": "stream",
     "text": [
      "[1, 3, 6, 7, 4, 3, 5, 6, 7, 87, 76, 43, 4, 5, 6, 767]\n",
      "18\n",
      "['cinnamon', 'bratworst']\n"
     ]
    }
   ],
   "source": [
    "# --- Variables, Part II ---\n",
    "\n",
    "# Lists (similar to MATLAB cells)\n",
    "var1 = []\n",
    "var1.append([1, 2, 3, 4, 5, 6, 7])\n",
    "var1.append(\"hello world\")\n",
    "var1.append([1, 3, 6, 7, 4, 3, 5, 6, 7, 87, 76, 43, 4, 5, 6, 767])\n",
    "\n",
    "print(var1[2])\n",
    "\n",
    "# Dictionaries (similar to MATLAB structures)\n",
    "ANTS = {}\n",
    "ANTS[\"name\"] = \"mike\"\n",
    "ANTS[\"position\"] = \"author\"\n",
    "ANTS[\"favorite_toothpaste_flavor\"] = \"cinnamon\"\n",
    "ANTS[\"number_of_watches\"] = 18\n",
    "ANTS[\"favorite_color\"] = [0.8, 0.1, 0.8]\n",
    "\n",
    "# List of dictionaries\n",
    "ANTS_list = [\n",
    "    ANTS,\n",
    "    {\n",
    "        \"name\": \"Your name here\",\n",
    "        \"position\": \"reader\",\n",
    "        \"favorite_toothpaste_flavor\": \"bratworst\",\n",
    "        \"number_of_watches\": 1,\n",
    "        \"favorite_color\": [1, 1, 1],\n",
    "    },\n",
    "]\n",
    "\n",
    "print(ANTS_list[0][\"number_of_watches\"])\n",
    "print([ants[\"favorite_toothpaste_flavor\"] for ants in ANTS_list])\n"
   ]
  },
  {
   "cell_type": "code",
   "execution_count": 6,
   "metadata": {},
   "outputs": [
    {
     "name": "stdout",
     "output_type": "stream",
     "text": [
      "[3 2 0 1]\n",
      "3.5\n",
      "[0 1 3 2]\n",
      "9\n",
      "6\n"
     ]
    }
   ],
   "source": [
    "\n",
    "# --- Functions ---\n",
    "print(np.random.permutation(4))  # Randperm equivalent\n",
    "print(np.mean([1, 3, 2, 4, 3, 5, 4, 6]))  # Mean function\n",
    "permuted_integers = np.random.permutation(4)\n",
    "print(permuted_integers)\n",
    "\n",
    "# Combining functions\n",
    "my_array = np.random.permutation(10)\n",
    "max_value = np.max(my_array)\n",
    "print(max_value)\n",
    "max_index = np.argmax(my_array)\n",
    "print(max_index)\n"
   ]
  },
  {
   "cell_type": "code",
   "execution_count": 7,
   "metadata": {},
   "outputs": [
    {
     "name": "stdout",
     "output_type": "stream",
     "text": [
      "[ 1  2  3  4  5  6  7  8  9 10]\n",
      "[1 3 5 7 9]\n",
      "(10, 10)\n",
      "10\n",
      "100\n",
      "1\n",
      "2\n",
      "3\n",
      "4\n",
      "5\n",
      "6\n",
      "7\n",
      "8\n",
      "9\n",
      "10\n",
      "Whew! Everythings normal.\n",
      "The 1st iteration value times 2 divided by 3 and added to 7 is 7.666666666666667.\n",
      "The 3rd iteration value times 2 divided by 3 and added to 7 is 9.0.\n",
      "The 5th iteration value times 2 divided by 3 and added to 7 is 10.333333333333334.\n",
      "The 7th iteration value times 2 divided by 3 and added to 7 is 11.666666666666668.\n",
      "The 9th iteration value times 2 divided by 3 and added to 7 is 13.0.\n",
      "True\n",
      "False\n",
      "False\n",
      "False\n",
      "False\n",
      "True\n"
     ]
    }
   ],
   "source": [
    "\n",
    "# --- Indexing ---\n",
    "twinkies = np.random.rand(10, 10)\n",
    "# If you wanted to eat the twinkie in the 4th row, 8th column, you write:\n",
    "the_twinkie_i_will_eat = twinkies[3, 7]  # this is because of 0-based indexing in Python\n",
    "\n",
    "# Colon operator equivalent\n",
    "print(np.arange(1, 11))\n",
    "print(np.arange(1, 11, 2))\n",
    "twinkies_i_will_eat = twinkies[3:8, 1:7]\n",
    "\n",
    "# Sizes and lengths\n",
    "print(twinkies.shape)\n",
    "print(len(twinkies))\n",
    "print(np.prod(twinkies.shape))\n",
    "\n",
    "# --- For-loops ---\n",
    "for counting_variable in range(1, 11):\n",
    "    print(counting_variable)\n",
    "\n",
    "# Nested loops\n",
    "product_matrix = np.zeros((5, 7))\n",
    "for i in range(5):\n",
    "    for j in range(3, 7):\n",
    "        product_matrix[i, j] = (i + 1) * (j + 1)  # 0-based indexing\n",
    "\n",
    "# --- If-statements ---\n",
    "if 4 > 5:\n",
    "    print(\"Something has gone awry in the universe\")\n",
    "else:\n",
    "    print(\"Whew! Everything\" \"s normal.\")\n",
    "\n",
    "# Switch/Case can be implemented using dictionaries or if-elif chains in Python\n",
    "for counting_variable in range(1, 11, 2):\n",
    "    if counting_variable == 1:\n",
    "        suffix = \"st\"\n",
    "    elif counting_variable == 2:\n",
    "        suffix = \"nd\"\n",
    "    elif counting_variable == 3:\n",
    "        suffix = \"rd\"\n",
    "    else:\n",
    "        suffix = \"th\"\n",
    "    print(\n",
    "        f\"The {counting_variable}{suffix} iteration value times 2 divided by 3 and added to 7 is {counting_variable * 2/3 + 7}.\"\n",
    "    )\n",
    "\n",
    "# --- Boolean (true/false) ---\n",
    "print(5 == 5)\n",
    "print(5 == 4)\n",
    "fourIsFive = 4 == 5\n",
    "print(fourIsFive)\n",
    "\n",
    "# Tilde equivalent is \"not\"\n",
    "print(not (1 == 1))\n",
    "print(not (4 > 3))\n",
    "print(not (4 < 3))\n",
    "\n",
    "# repmat equivalent in Python using numpy.tile\n",
    "mat = np.random.rand(4, 10)\n",
    "mean_over_time = np.mean(mat, axis=1).reshape(-1, 1)\n",
    "mean_over_time_repmat = np.tile(mean_over_time, (1, mat.shape[1]))\n",
    "mat_mean_corrected = mat - mean_over_time_repmat\n"
   ]
  },
  {
   "cell_type": "code",
   "execution_count": 8,
   "metadata": {},
   "outputs": [
    {
     "name": "stdout",
     "output_type": "stream",
     "text": [
      "octave not found, please see README\n"
     ]
    },
    {
     "ename": "Oct2PyError",
     "evalue": "octave not found, please see README",
     "output_type": "error",
     "traceback": [
      "\u001b[0;31m---------------------------------------------------------------------------\u001b[0m",
      "\u001b[0;31mOSError\u001b[0m                                   Traceback (most recent call last)",
      "File \u001b[0;32m~/mambaforge/envs/data/lib/python3.11/site-packages/oct2py/core.py:563\u001b[0m, in \u001b[0;36mOct2Py.restart\u001b[0;34m(self)\u001b[0m\n\u001b[1;32m    562\u001b[0m \u001b[39mtry\u001b[39;00m:\n\u001b[0;32m--> 563\u001b[0m     \u001b[39mself\u001b[39m\u001b[39m.\u001b[39m_engine \u001b[39m=\u001b[39m OctaveEngine(stdin_handler\u001b[39m=\u001b[39;49m\u001b[39mself\u001b[39;49m\u001b[39m.\u001b[39;49m_handle_stdin, logger\u001b[39m=\u001b[39;49m\u001b[39mself\u001b[39;49m\u001b[39m.\u001b[39;49mlogger)\n\u001b[1;32m    564\u001b[0m \u001b[39mexcept\u001b[39;00m \u001b[39mException\u001b[39;00m \u001b[39mas\u001b[39;00m e:\n",
      "File \u001b[0;32m~/mambaforge/envs/data/lib/python3.11/site-packages/octave_kernel/kernel.py:182\u001b[0m, in \u001b[0;36mOctaveEngine.__init__\u001b[0;34m(self, error_handler, stream_handler, line_handler, stdin_handler, plot_settings, inline_toolkit, defer_startup, cli_options, logger)\u001b[0m\n\u001b[1;32m    181\u001b[0m \u001b[39mself\u001b[39m\u001b[39m.\u001b[39mlogger \u001b[39m=\u001b[39m logger\n\u001b[0;32m--> 182\u001b[0m \u001b[39mself\u001b[39m\u001b[39m.\u001b[39mexecutable \u001b[39m=\u001b[39m \u001b[39mself\u001b[39;49m\u001b[39m.\u001b[39;49m_get_executable()\n\u001b[1;32m    183\u001b[0m \u001b[39mself\u001b[39m\u001b[39m.\u001b[39mcli_options \u001b[39m=\u001b[39m cli_options\n",
      "File \u001b[0;32m~/mambaforge/envs/data/lib/python3.11/site-packages/octave_kernel/kernel.py:486\u001b[0m, in \u001b[0;36mOctaveEngine._get_executable\u001b[0;34m(self)\u001b[0m\n\u001b[1;32m    485\u001b[0m     \u001b[39mif\u001b[39;00m \u001b[39mnot\u001b[39;00m executable:\n\u001b[0;32m--> 486\u001b[0m         \u001b[39mraise\u001b[39;00m \u001b[39mOSError\u001b[39;00m(\u001b[39m'\u001b[39m\u001b[39moctave not found, please see README\u001b[39m\u001b[39m'\u001b[39m)\n\u001b[1;32m    487\u001b[0m \u001b[39mreturn\u001b[39;00m executable\u001b[39m.\u001b[39mreplace(os\u001b[39m.\u001b[39mpath\u001b[39m.\u001b[39msep, \u001b[39m'\u001b[39m\u001b[39m/\u001b[39m\u001b[39m'\u001b[39m)\n",
      "\u001b[0;31mOSError\u001b[0m: octave not found, please see README",
      "\nDuring handling of the above exception, another exception occurred:\n",
      "\u001b[0;31mOct2PyError\u001b[0m                               Traceback (most recent call last)",
      "Cell \u001b[0;32mIn[8], line 5\u001b[0m\n\u001b[1;32m      2\u001b[0m \u001b[39mfrom\u001b[39;00m \u001b[39moct2py\u001b[39;00m \u001b[39mimport\u001b[39;00m Oct2Py\n\u001b[1;32m      4\u001b[0m \u001b[39m# Create an instance of Oct2Py\u001b[39;00m\n\u001b[0;32m----> 5\u001b[0m octave \u001b[39m=\u001b[39m Oct2Py()\n\u001b[1;32m      7\u001b[0m \u001b[39m# Make sure you're in the correct directory or specify the full path to the .m file\u001b[39;00m\n\u001b[1;32m      8\u001b[0m \u001b[39m# Run the MATLAB script\u001b[39;00m\n\u001b[1;32m      9\u001b[0m octave\u001b[39m.\u001b[39mrun(\u001b[39m\"\u001b[39m\u001b[39mants/example04a.m\u001b[39m\u001b[39m\"\u001b[39m)\n",
      "File \u001b[0;32m~/mambaforge/envs/data/lib/python3.11/site-packages/oct2py/core.py:87\u001b[0m, in \u001b[0;36mOct2Py.__init__\u001b[0;34m(self, logger, timeout, oned_as, temp_dir, convert_to_float, backend)\u001b[0m\n\u001b[1;32m     85\u001b[0m \u001b[39mself\u001b[39m\u001b[39m.\u001b[39m_user_classes \u001b[39m=\u001b[39m {}\n\u001b[1;32m     86\u001b[0m \u001b[39mself\u001b[39m\u001b[39m.\u001b[39m_function_ptrs \u001b[39m=\u001b[39m {}\n\u001b[0;32m---> 87\u001b[0m \u001b[39mself\u001b[39;49m\u001b[39m.\u001b[39;49mrestart()\n",
      "File \u001b[0;32m~/mambaforge/envs/data/lib/python3.11/site-packages/oct2py/core.py:565\u001b[0m, in \u001b[0;36mOct2Py.restart\u001b[0;34m(self)\u001b[0m\n\u001b[1;32m    563\u001b[0m     \u001b[39mself\u001b[39m\u001b[39m.\u001b[39m_engine \u001b[39m=\u001b[39m OctaveEngine(stdin_handler\u001b[39m=\u001b[39m\u001b[39mself\u001b[39m\u001b[39m.\u001b[39m_handle_stdin, logger\u001b[39m=\u001b[39m\u001b[39mself\u001b[39m\u001b[39m.\u001b[39mlogger)\n\u001b[1;32m    564\u001b[0m \u001b[39mexcept\u001b[39;00m \u001b[39mException\u001b[39;00m \u001b[39mas\u001b[39;00m e:\n\u001b[0;32m--> 565\u001b[0m     \u001b[39mraise\u001b[39;00m Oct2PyError(\u001b[39mstr\u001b[39m(e))\n\u001b[1;32m    567\u001b[0m \u001b[39m# Add local Octave scripts.\u001b[39;00m\n\u001b[1;32m    568\u001b[0m \u001b[39mself\u001b[39m\u001b[39m.\u001b[39m_engine\u001b[39m.\u001b[39meval(\u001b[39m'\u001b[39m\u001b[39maddpath(\u001b[39m\u001b[39m\"\u001b[39m\u001b[39m%s\u001b[39;00m\u001b[39m\"\u001b[39m\u001b[39m);\u001b[39m\u001b[39m'\u001b[39m \u001b[39m%\u001b[39m HERE\u001b[39m.\u001b[39mreplace(osp\u001b[39m.\u001b[39msep, \u001b[39m\"\u001b[39m\u001b[39m/\u001b[39m\u001b[39m\"\u001b[39m))\n",
      "\u001b[0;31mOct2PyError\u001b[0m: octave not found, please see README"
     ]
    }
   ],
   "source": [
    "# Import the Oct2Py class from oct2py package\n",
    "from oct2py import Oct2Py\n",
    "\n",
    "# Create an instance of Oct2Py\n",
    "octave = Oct2Py()\n",
    "\n",
    "# Make sure you're in the correct directory or specify the full path to the .m file\n",
    "# Run the MATLAB script\n",
    "octave.run(\"ants/example04a.m\")\n"
   ]
  }
 ],
 "metadata": {
  "kernelspec": {
   "display_name": "data",
   "language": "python",
   "name": "python3"
  },
  "language_info": {
   "codemirror_mode": {
    "name": "ipython",
    "version": 3
   },
   "file_extension": ".py",
   "mimetype": "text/x-python",
   "name": "python",
   "nbconvert_exporter": "python",
   "pygments_lexer": "ipython3",
   "version": "3.11.6"
  },
  "orig_nbformat": 4
 },
 "nbformat": 4,
 "nbformat_minor": 2
}
